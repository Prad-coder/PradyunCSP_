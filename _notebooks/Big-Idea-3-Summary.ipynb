{
 "cells": [
  {
   "cell_type": "raw",
   "metadata": {
    "vscode": {
     "languageId": "raw"
    }
   },
   "source": [
    "---\n",
    "layout: post\n",
    "title: Big Idea 3 Summary\n",
    "type: issues\n",
    "comments: true\n",
    "---"
   ]
  },
  {
   "cell_type": "markdown",
   "metadata": {},
   "source": [
    "In 3.1, I learnt how to define variables and perform operations on variables defined as integers, as well as how to define a variable as a string. In 3.2, I learnt the different data types, which were integers, floats, strings, lists, tuples, sets, dictionaries, and booleans, and how to define them and run operations on them. In 3.3, I learnt the different mathematical operations, and how to define variables as integers from user input in order to create a variable that performed an operation on the variable. In 3.4, I learnt how to perform string operations, through string concatenation. I also learnt how to analyze strings through creating functions that calculated the average word length, the number of vowels, and if the string was a palindrome or not. In 3.5, I learnt a more in depth lesson on booleans, and how to run functions to determine if something was true or false. In 3.6, I learnt if/else statements, and how to use them to run different operations on variables and test different things in python. In 3.7, I learnt how to use nested conditionals in if/else statements to further test something in python. I also learnt how to use pseudocode to plan out a code in python. In 3.8, I learnt how to use iterations such as loops and try/except statements. I learnt how to use try/except statements to ensure that the user was giving the desired input. In 3.10, I learnt how to create lists, as well as append, delete, change, and perform many operations on items in the list."
   ]
  }
 ],
 "metadata": {
  "language_info": {
   "name": "python"
  }
 },
 "nbformat": 4,
 "nbformat_minor": 2
}
