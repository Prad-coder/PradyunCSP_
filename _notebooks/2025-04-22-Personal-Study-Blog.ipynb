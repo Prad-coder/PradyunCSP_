{
 "cells": [
  {
   "cell_type": "raw",
   "id": "ce23db20",
   "metadata": {
    "vscode": {
     "languageId": "raw"
    }
   },
   "source": [
    "---\n",
    "layout: post\n",
    "title: AP CSP Big Idea 5 Resource \n",
    "categories: [AP CSP Study Plan]\n",
    "type: issues\n",
    "comments: true\n",
    "---"
   ]
  },
  {
   "cell_type": "markdown",
   "id": "54d9746b",
   "metadata": {},
   "source": [
    "# AP CSP Big Idea 5\n",
    "\n",
    "1. ## Beneficial and Harmful Effects 🌍\n",
    "- **Tech impacts society**: Can be both positive (education, health, communication) and negative (privacy loss, job automation, misinformation).\n",
    "- **Ethical dilemmas**: Automated decision-making (e.g., self-driving cars) raises moral questions.\n",
    "- **Environmental cost**: Tech consumes energy; AI models can have large carbon footprints.\n",
    "\n",
    "---\n",
    "\n",
    "2. ## The Digital Divide 🌐\n",
    "- **Access inequality**: Based on income, geography, language, etc.\n",
    "- **Local/global issue**: Exists in both developing and developed regions.\n",
    "- **Solutions**: Government funding, nonprofit outreach, community Wi-Fi, refurbished tech donations.\n",
    "\n",
    "---\n",
    "\n",
    "3. ## Computing Bias ⚖️\n",
    "- **Source of bias**: Comes from biased data, human assumptions, or lack of diversity in training sets.\n",
    "- **Consequences**: Inaccurate or unfair systems (e.g., hiring, facial recognition).\n",
    "- **Fixing bias**: Address during:\n",
    "  - **Pre-processing**: Balance datasets\n",
    "  - **In-processing**: Adjust model behavior\n",
    "  - **Post-processing**: Analyze output for bias\n",
    "\n",
    "---\n",
    "\n",
    "4. ## Crowdsourcing 🤝\n",
    "- **Definition**: Gathering help/data from large groups of people (often online).\n",
    "- **Examples**: Wikipedia, Zooniverse, Duolingo, Kickstarter.\n",
    "- **Benefits**:\n",
    "  - Fast data collection\n",
    "  - Community involvement\n",
    "  - Scalable problem-solving\n",
    "- **Distributed computing**: Using many devices to solve large problems (e.g., SETI@home).\n",
    "\n",
    "---\n",
    "\n",
    "5. ## Safe Computing 🔐\n",
    "- **PII**: Data that can identify you (SSN, name, email, etc.)\n",
    "- **Online threats**:\n",
    "  - Phishing (fake emails/sites)\n",
    "  - Malware\n",
    "- **Security tools**:\n",
    "  - Strong passwords\n",
    "  - Multi-factor authentication\n",
    "  - HTTPS encryption\n",
    "- **Cookies**: Track user behavior; may raise privacy concerns.\n",
    "\n",
    "---\n",
    "\n",
    "6. ## Legal & Ethical Concerns ⚖️\n",
    "- **Intellectual property**:\n",
    "  - **Copyright**: Legal protection\n",
    "  - **Creative Commons**: Permissions for reuse\n",
    "- **Software licenses**:\n",
    "  - MIT: Very permissive\n",
    "  - GPL: Requires sharing changes\n",
    "  - Apache: Allows commercial use\n",
    "- **Ethics**: Don't copy code without credit. Respect licenses. Be transparent about data usage.\n",
    "\n",
    "---"
   ]
  }
 ],
 "metadata": {
  "language_info": {
   "name": "python"
  }
 },
 "nbformat": 4,
 "nbformat_minor": 5
}
