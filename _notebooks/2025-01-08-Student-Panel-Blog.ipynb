{
 "cells": [
  {
   "cell_type": "raw",
   "metadata": {
    "vscode": {
     "languageId": "raw"
    }
   },
   "source": [
    "---\n",
    "layout: post\n",
    "title: Student Panel Blog Reflection\n",
    "type: issues\n",
    "comments: true\n",
    "---"
   ]
  },
  {
   "cell_type": "markdown",
   "metadata": {},
   "source": [
    "## Reflection\n",
    "\n",
    "<h3>Careers<h3><br>\n",
    "1. Foster your interests from a young age, and this can also be influenced by people around you. It doesn't have to be STEM, but think about this field because it is very common in San Diego.<br>\n",
    "<h3>Communication<h3><br>\n",
    "2. When talking to people and communicating with them, be clear, direct, and concise, especially in interviews and meetings.<br>\n",
    "3. Incorporate something like issues from this CS class, creating checklists to communicate ideas efficiently. Flowcharts and just being organized in general is very good for communication.<br>\n",
    "<h3>The Stem Field<h3><br>\n",
    "4. In the CS field, many projects are similar to the structure in this class, such as Hackathons.<br>\n",
    "5. There are also many positions such as scrums and design leads in engineering.<br>\n",
    "<h3>College Admissions<h3><br>\n",
    "6. Colleges don't take all your AP credits, and some colleges still require you to take AP classes that you have already taken.<br>\n",
    "7. In the college essay and application, it is important to talk about extracurriculars and projects that you have done from your interest. This will help you in these applications.<br>\n",
    "8. Look at your major, look at your university, and look at what the university offers before applying.<br>\n",
    "9. Take more community college classes during your high school career to better your education before college.<br>\n",
    "10. Jobs do not care about your college GPA, they care about your projects and extracurriculars. It is ok to focus on GPA in high school, but also pay attention to outside things as well.<br>\n",
    "11. Learn how to implement things that you do in high school and college into real life.<br>\n",
    "12. Extracurriculars can help get you into college and help you in real life scenarios.<br>\n",
    "13. Find something you are passionate about instead of going with what most people go into."
   ]
  }
 ],
 "metadata": {
  "language_info": {
   "name": "python"
  }
 },
 "nbformat": 4,
 "nbformat_minor": 2
}
