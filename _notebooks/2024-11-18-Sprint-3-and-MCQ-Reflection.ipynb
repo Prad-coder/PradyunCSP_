{
 "cells": [
  {
   "cell_type": "raw",
   "metadata": {
    "vscode": {
     "languageId": "raw"
    }
   },
   "source": [
    "---\n",
    "layout: post\n",
    "title: Sprint 3 and MCQ Reflection\n",
    "type: issues\n",
    "comments: true\n",
    "---"
   ]
  },
  {
   "cell_type": "markdown",
   "metadata": {},
   "source": [
    "## Sprint 3 Reflection\n",
    "During Sprint 3, me and my group were able to implement a frontend and backend to view and add posts in a social media site known as AGK, where people could discuss their extracurriculars. The backend in this sprint that interacted with the frontend can be divided into sections:\n",
    "<h3>1. Fetching Groups</h3><br>\n",
    "<img src=\"{{site.baseurl}}/images/Screenshot 2024-11-21 110731.png\" alt=\"Fetching Groups\" width=\"500\" height=\"auto\"><br>\n",
    "The fetchGroups() function is called, retrieving a list of groups from a server through a POST request with section name Shared_Interests. This then populates a dropdown, known as group_id with the group names when the request is successful.<br>\n",
    "<h3>2. Fetching Channels based on Group Selection</h3><br>\n",
    "<img src=\"{{site.baseurl}}/images/Screenshot 2024-11-21 111824.png\" alt=\"Fetching Channels based on Group Selection\" width=\"500\" height=\"auto\"><br>\n",
    "The fetchChannels() function is called, fetching channels associated with a specific group. This then updates the channel_id dropwdown with channel options when the group is selected.<br>\n",
    "<h3>3. Form Submission for Adding a Post</h3><br>\n",
    "<img src=\"{{site.baseurl}}/images/Screenshot 2024-11-21 112317.png\" alt=\"Fetching Channels based on Group Selection\" width=\"500\" height=\"auto\"><br>\n",
    "<img src=\"{{site.baseurl}}/images/Screenshot 2024-11-21 112336.png\" alt=\"Fetching Channels based on Group Selection\" width=\"500\" height=\"auto\"><br>\n",
    "This section of the code collects the title, comment, and selected channel, eventually sending this data as a POST request. It then alerts the user if successful.<br>\n",
    "<h3>4. Fetching and Displaying Posts</h3><br>\n",
    "<img src=\"{{site.baseurl}}/images/Screenshot 2024-11-21 112643.png\" alt=\"Fetching Channels based on Group Selection\" width=\"500\" height=\"auto\"><br>\n",
    "<img src=\"{{site.baseurl}}/images/Screenshot 2024-11-21 112709.png\" alt=\"Fetching Channels based on Group Selection\" width=\"500\" height=\"auto\"><br>\n",
    "The fetchData() function is called, fetching the data for the posts, updating the channel, counting the posts, and updating the UI with the title, user, and comment of the post.<br>\n",
    "\n",
    "Overall, this sprint helped me learn backend for an API regarding posts in a social media site, and how to fetch data for each of the groups, channels, and posts in order to display correct information on the site. I also learnt how backend data is stored in a database which can be viewed through the numerous functions listed in this backend.\n",
    "\n",
    "## MCQ Reflection\n",
    "Through the MCQ, I was able to learn which concepts I struggled on the most. The area I struggled on the most was known as Impact of Computing.<br>\n",
    "<img src=\"{{site.baseurl}}/images/Screenshot 2024-11-21 125634.png\" alt=\"Fetching Channels based on Group Selection\" width=\"500\" height=\"auto\"><br>An example question of this big idea was this one:<br>\n",
    "<img src=\"{{site.baseurl}}/images/Screenshot 2024-11-21 125956.png\" alt=\"Fetching Channels based on Group Selection\" width=\"500\" height=\"auto\"><br>\n",
    "This question covered copyright violations based on downloading music. The correct answer to this problem are samples published with the actual no rights Creative Commons license, which makes certain that there can be no copyright violation. This is the correct answer because an actual license protecting against copyright is the conceptual one to be the minimum risk of copyright violation.<br>\n",
    "Areas that I excelled in included algorithms and programming, as well data. I will continue to excel in these areas through a lot of practice, making sure I understand fully each concept. I will also improve on the Impact of Computing big idea in order to fully reach my potential in each CSP MC that I take. I will improve by reading through maerial on College Board and watching the AP videos on this Big Idea, to cement my understanding as I answer each question.\n"
   ]
  }
 ],
 "metadata": {
  "language_info": {
   "name": "python"
  }
 },
 "nbformat": 4,
 "nbformat_minor": 2
}
