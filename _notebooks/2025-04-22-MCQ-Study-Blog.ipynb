{
 "cells": [
  {
   "cell_type": "raw",
   "id": "e3aa2383",
   "metadata": {
    "vscode": {
     "languageId": "raw"
    }
   },
   "source": [
    "---\n",
    "layout: post\n",
    "title: AP CSP 2021 MCQ Analysis \n",
    "categories: [AP CSP Study Plan]\n",
    "type: issues\n",
    "comments: true\n",
    "---"
   ]
  },
  {
   "cell_type": "markdown",
   "id": "55fbe4db",
   "metadata": {},
   "source": [
    "<img src=\"{{site.baseurl}}/images/2021MCQ.png\" alt=\"Description of Image\">\n",
    "\n",
    "## Skills I Need to Work On\n",
    "- Skill 1.A: Investigate the situation, context, or task.\n",
    "- Skill 1.B: Determine and design an appropriate method or approach to achieve the purpose.\n",
    "\n",
    "## Skills Not Tested\n",
    "- Skill 4.A: Explain how a code segment or program functions\n",
    "- Skill 6.A: Collaborate in the development of solutions.\n",
    "- Skill 6.B: Use safe and secure methods when using computing devices.\n",
    "- Skill 6.C: Acknowledge the intellectual property of others.\n",
    "\n",
    "I can practice these skills through other practice AP CSP MCQs in the future in preparation for the AP Exam.\n",
    "\n",
    "## AP Exam Study Plan\n",
    "- Find more practice CSP MCQs online and from College Board\n",
    "- Practice FRQ questions that may come up on the written portion for my code\n",
    "- Study all of the notes summaries for each lesson in my blogs\n",
    "- Look over my code for the CPT project and understand each and every line to the best of my ability, as well as the purpose of the program"
   ]
  }
 ],
 "metadata": {
  "language_info": {
   "name": "python"
  }
 },
 "nbformat": 4,
 "nbformat_minor": 5
}
