{
 "cells": [
  {
   "cell_type": "code",
   "execution_count": null,
   "metadata": {
    "vscode": {
     "languageId": "plaintext"
    }
   },
   "outputs": [],
   "source": [
    "---\n",
    "layout: post\n",
    "title: Future in CS, Strengths and Weaknesses\n",
    "type: issues\n",
    "comments: true\n",
    "---"
   ]
  },
  {
   "cell_type": "markdown",
   "metadata": {},
   "source": [
    "## Reflection\n",
    "\n",
    "### Strengths\n",
    "- Was able to keep up with the class during project work time and tech talks(Responsibility)\n",
    "- Was able to problem solve my way through errors in VSCode in order to get my feature to work(Determination)\n",
    "- Was able to help students inside and outside of my group with their APIs and other features of their program(Leadership)\n",
    "\n",
    "### Weaknesses\n",
    "- Occasionally wasn't proactive in class due to errors that I didn't know how to fix on my machine(Procrastination)\n",
    "- Relied too much on AI occasionally instead of learning the procedure for the program(Shortcuts)\n",
    "\n",
    "### Improvements\n",
    "- Put ultimate focus into the class to avoid procrastination\n",
    "- GET HELP AND FIX ERRORS BEFORE CODING!\n",
    "\n",
    "### Next Steps in the CS Field\n",
    "- Plan to take CSA in 1 of the next 2 years of my high school career\n",
    "- Plan to take CS classes in college to boost my learning for careers in the bio field such as bioinformatics\n",
    "- Plan to choose a careeer that has some amount of CS attached to it"
   ]
  }
 ],
 "metadata": {
  "language_info": {
   "name": "python"
  }
 },
 "nbformat": 4,
 "nbformat_minor": 2
}
