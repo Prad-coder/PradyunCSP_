{
 "cells": [
  {
   "cell_type": "raw",
   "id": "f97d5922",
   "metadata": {
    "vscode": {
     "languageId": "raw"
    }
   },
   "source": [
    "---\n",
    "layout: post\n",
    "title: Binary and Logic Gates Hacks\n",
    "categories: [Tri 3 Team Teach Hacks]\n",
    "type: issues\n",
    "comments: true\n",
    "---"
   ]
  },
  {
   "cell_type": "markdown",
   "id": "152ae8c8",
   "metadata": {},
   "source": [
    "## Popcorn Hack 1\n",
    "\n",
    "- Example 1: Binary\n",
    "- Example 2: Not Binary\n",
    "- Example 3: Binary\n",
    "\n",
    "## Popcorn Hack 2\n",
    "\n",
    "- 101 + 110 = 1011\n",
    "- 1101 - 1011 = 010\n",
    "- 111 + 1001 = 1110\n",
    "\n",
    "## Popcorn Hack 3, 4, 5\n",
    "\n",
    "- False\n",
    "- False\n",
    "- True\n",
    "\n",
    "## Homework Hack 1"
   ]
  },
  {
   "cell_type": "code",
   "execution_count": 1,
   "id": "9755f2b1",
   "metadata": {},
   "outputs": [
    {
     "name": "stdout",
     "output_type": "stream",
     "text": [
      "📥 Decimal to Binary:\n",
      "10 → 1010\n",
      "-10 → -1010\n",
      "0 → 0\n",
      "255 → 11111111\n",
      "-255 → -11111111\n",
      "\n",
      "📤 Binary to Decimal:\n",
      "1010 → 10\n",
      "-1010 → -10\n",
      "0 → 0\n",
      "11111111 → 255\n",
      "-11111111 → -255\n"
     ]
    }
   ],
   "source": [
    "def decimal_to_binary(decimal_num):\n",
    "    # Handle zero edge case\n",
    "    if decimal_num == 0:\n",
    "        return \"0\"\n",
    "    is_negative = decimal_num < 0\n",
    "    decimal_num = abs(decimal_num)\n",
    "    \n",
    "    binary_str = \"\"\n",
    "    while decimal_num > 0:\n",
    "        binary_str = str(decimal_num % 2) + binary_str\n",
    "        decimal_num //= 2\n",
    "    \n",
    "    return \"-\" + binary_str if is_negative else binary_str\n",
    "\n",
    "\n",
    "def binary_to_decimal(binary_str):\n",
    "    is_negative = binary_str.startswith('-')\n",
    "    if is_negative:\n",
    "        binary_str = binary_str[1:]\n",
    "\n",
    "    decimal_num = 0\n",
    "    for i, bit in enumerate(reversed(binary_str)):\n",
    "        if bit not in ('0', '1'):\n",
    "            raise ValueError(\"Binary string must contain only 0s and 1s\")\n",
    "        decimal_num += int(bit) * (2 ** i)\n",
    "\n",
    "    return -decimal_num if is_negative else decimal_num\n",
    "\n",
    "\n",
    "# 🔁 Test cases\n",
    "test_decimals = [10, -10, 0, 255, -255]\n",
    "test_binaries = [\"1010\", \"-1010\", \"0\", \"11111111\", \"-11111111\"]\n",
    "\n",
    "print(\"📥 Decimal to Binary:\")\n",
    "for num in test_decimals:\n",
    "    print(f\"{num} → {decimal_to_binary(num)}\")\n",
    "\n",
    "print(\"\\n📤 Binary to Decimal:\")\n",
    "for bstr in test_binaries:\n",
    "    print(f\"{bstr} → {binary_to_decimal(bstr)}\")"
   ]
  },
  {
   "cell_type": "markdown",
   "id": "0bbb5896",
   "metadata": {},
   "source": [
    "## Homework Hack 2"
   ]
  },
  {
   "cell_type": "code",
   "execution_count": 4,
   "id": "2792476e",
   "metadata": {},
   "outputs": [
    {
     "name": "stdout",
     "output_type": "stream",
     "text": [
      "✅ Difficulty set to: medium\n"
     ]
    }
   ],
   "source": [
    "import time\n",
    "\n",
    "valid_difficulties = [\"easy\", \"medium\", \"hard\"]\n",
    "difficulty = input(\"Enter difficulty (easy, medium, hard): \").lower().strip()\n",
    "\n",
    "while difficulty not in valid_difficulties:\n",
    "    print(\"Please enter a valid difficulty level.\")\n",
    "    time.sleep(0.5)\n",
    "    difficulty = input(\"Enter difficulty (easy, medium, hard): \").lower().strip()\n",
    "\n",
    "print(\"✅ Difficulty set to:\", difficulty)\n"
   ]
  }
 ],
 "metadata": {
  "kernelspec": {
   "display_name": ".venv",
   "language": "python",
   "name": "python3"
  },
  "language_info": {
   "codemirror_mode": {
    "name": "ipython",
    "version": 3
   },
   "file_extension": ".py",
   "mimetype": "text/x-python",
   "name": "python",
   "nbconvert_exporter": "python",
   "pygments_lexer": "ipython3",
   "version": "3.10.12"
  }
 },
 "nbformat": 4,
 "nbformat_minor": 5
}
