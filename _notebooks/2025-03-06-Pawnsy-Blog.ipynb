{
 "cells": [
  {
   "cell_type": "code",
   "execution_count": null,
   "metadata": {
    "vscode": {
     "languageId": "plaintext"
    }
   },
   "outputs": [],
   "source": [
    "---\n",
    "layout: post\n",
    "title: Pawnsy Blog\n",
    "categories: [Tri 2 Documentation]\n",
    "type: issues\n",
    "comments: true\n",
    "---"
   ]
  },
  {
   "cell_type": "markdown",
   "metadata": {},
   "source": [
    "## Pawnsy Feedback\n",
    "\n",
    "### Playing Chess\n",
    "<img src=\"{{site.baseurl}}/images/image5.png\" alt=\"Description of Image\">\n",
    "\n",
    "### Analyzing Games\n",
    "<img src=\"{{site.baseurl}}/images/image6.png\" alt=\"Description of Image\">\n",
    "\n",
    "### Feedback\n",
    "- Chess feature against Stockfish is very interesting and unique\n",
    "- Game analysis feature where it gets the game right after you play Stockfish is very cool\n",
    "- Leaderboard feature is very aesthetic and polished\n",
    "- Chess feature is a little buggy, I can't enter my user ID because I can't type some characters\n",
    "- Analysis feature is also a little bit buggy or hard to understand how to use because I uploaded file and the analysis never started\n",
    "- AI Bot feature isn't working\n",
    "- Could add a feature that lets you play other people in the feature\n",
    "\n",
    "### Overall, great site, I really enjoyed playing chess on your site and analyzing some of the moves that I played!"
   ]
  }
 ],
 "metadata": {
  "language_info": {
   "name": "python"
  }
 },
 "nbformat": 4,
 "nbformat_minor": 2
}
