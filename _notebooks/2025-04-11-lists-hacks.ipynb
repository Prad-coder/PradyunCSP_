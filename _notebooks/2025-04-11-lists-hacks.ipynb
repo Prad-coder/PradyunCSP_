{
 "cells": [
  {
   "cell_type": "raw",
   "id": "3accfef0",
   "metadata": {
    "vscode": {
     "languageId": "raw"
    }
   },
   "source": [
    "---\n",
    "layout: post\n",
    "title: Random Numbers Hacks\n",
    "type: issues\n",
    "comments: true\n",
    "---"
   ]
  },
  {
   "cell_type": "markdown",
   "id": "49054e21",
   "metadata": {},
   "source": [
    "## Homework Hack\n",
    "\n",
    "Filtering algorithms and lists are used in real life to help organize data and display only what is useful—like filtering emails to show only unread ones. They're used in apps, websites, and databases to make information easier to find and work with."
   ]
  },
  {
   "cell_type": "code",
   "execution_count": 2,
   "id": "426b7401",
   "metadata": {},
   "outputs": [
    {
     "name": "stdout",
     "output_type": "stream",
     "text": [
      "Updated animal list: ['dog', 'cat', 'lion', 'elephant', 'giraffe', 'dolphin']\n",
      "\n",
      "Traversing the list:\n",
      "Animal: dog\n",
      "Animal: cat\n",
      "Animal: lion\n",
      "Animal: elephant\n",
      "Animal: giraffe\n",
      "Animal: dolphin\n",
      "\n",
      "Animals with names longer than 4 letters: ['elephant', 'giraffe', 'dolphin']\n"
     ]
    }
   ],
   "source": [
    "# ✅ 1) Create a list that includes at least five items\n",
    "animals = [\"dog\", \"cat\", \"elephant\", \"giraffe\", \"dolphin\"]\n",
    "\n",
    "# --- List Procedure 1: append() ---\n",
    "# Adds a new item to the end of the list\n",
    "animals.append(\"zebra\")\n",
    "\n",
    "# --- List Procedure 2: insert() ---\n",
    "# Inserts an item at a specific index (here, index 2)\n",
    "animals.insert(2, \"lion\")\n",
    "\n",
    "# --- List Procedure 3: pop() ---\n",
    "# Removes and returns the last item in the list\n",
    "animals.pop()\n",
    "\n",
    "# Show updated list\n",
    "print(\"Updated animal list:\", animals)\n",
    "\n",
    "# 🔁 2) List Traversal Instructions:\n",
    "# Traverse the list one item at a time using a for loop\n",
    "\n",
    "print(\"\\nTraversing the list:\")\n",
    "for animal in animals:\n",
    "    # Access and print each animal\n",
    "    print(\"Animal:\", animal)\n",
    "\n",
    "# 🧪 3) Filtering Algorithm using pandas\n",
    "# Condition: Keep only animals with names longer than 4 letters\n",
    "\n",
    "import pandas as pd\n",
    "\n",
    "# Step 1: Convert list to DataFrame\n",
    "df = pd.DataFrame(animals, columns=[\"animal\"])\n",
    "\n",
    "# Step 2: Apply condition to filter names with length > 4\n",
    "filtered_df = df[df[\"animal\"].str.len() > 4]\n",
    "\n",
    "# Step 3: Convert filtered DataFrame back to list\n",
    "long_name_animals = filtered_df[\"animal\"].tolist()\n",
    "\n",
    "# Print filtered result\n",
    "print(\"\\nAnimals with names longer than 4 letters:\", long_name_animals)\n"
   ]
  }
 ],
 "metadata": {
  "kernelspec": {
   "display_name": ".venv",
   "language": "python",
   "name": "python3"
  },
  "language_info": {
   "codemirror_mode": {
    "name": "ipython",
    "version": 3
   },
   "file_extension": ".py",
   "mimetype": "text/x-python",
   "name": "python",
   "nbconvert_exporter": "python",
   "pygments_lexer": "ipython3",
   "version": "3.10.12"
  }
 },
 "nbformat": 4,
 "nbformat_minor": 5
}
