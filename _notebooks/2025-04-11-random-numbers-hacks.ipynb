{
 "cells": [
  {
   "cell_type": "raw",
   "id": "2ede2055",
   "metadata": {
    "vscode": {
     "languageId": "raw"
    }
   },
   "source": [
    "---\n",
    "layout: post\n",
    "title: Random Numbers and Simulations Hacks\n",
    "type: issues\n",
    "comments: true\n",
    "---"
   ]
  },
  {
   "cell_type": "markdown",
   "id": "af5377a9",
   "metadata": {},
   "source": [
    "## Popcorn Hack 1\n",
    "\n",
    "2 real world examples of using a random number generator are rolling dice with equal probability for all the numbers on the die, especially in gambling situations, as well as randomizing numbers and letters for secure recommended passwords to ensure no breaches occur"
   ]
  },
  {
   "cell_type": "markdown",
   "id": "4b5eccfb",
   "metadata": {},
   "source": [
    "## Popcorn Hack 2"
   ]
  },
  {
   "cell_type": "code",
   "execution_count": 3,
   "id": "e6eeab0c",
   "metadata": {},
   "outputs": [
    {
     "name": "stdout",
     "output_type": "stream",
     "text": [
      "Magic 8-Ball says: Yes\n",
      "Magic 8-Ball says: No\n",
      "Magic 8-Ball says: Yes\n",
      "Magic 8-Ball says: Ask again later\n",
      "Magic 8-Ball says: Yes\n",
      "Magic 8-Ball says: No\n",
      "Magic 8-Ball says: Ask again later\n",
      "Magic 8-Ball says: Yes\n",
      "Magic 8-Ball says: Yes\n",
      "Magic 8-Ball says: Ask again later\n",
      "Magic 8-Ball says: Yes\n",
      "Magic 8-Ball says: Yes\n",
      "Magic 8-Ball says: Yes\n",
      "Magic 8-Ball says: Yes\n",
      "Magic 8-Ball says: Yes\n"
     ]
    }
   ],
   "source": [
    "import random\n",
    "\n",
    "def magic_8_ball():\n",
    "    num = random.randint(1, 4)  # Generates a number from 1 to 4\n",
    "    if num in [1, 2]:\n",
    "        return \"Yes\"\n",
    "    elif num == 3:\n",
    "        return \"No\"\n",
    "    else:\n",
    "        return \"Ask again later\"\n",
    "\n",
    "# Test your function\n",
    "for i in range(15):\n",
    "    print(f\"Magic 8-Ball says: {magic_8_ball()}\")"
   ]
  },
  {
   "cell_type": "markdown",
   "id": "6b6889f1",
   "metadata": {},
   "source": [
    "## Popcorn Hack 3\n",
    "\n",
    "This is a simulation because it simulates when traffic lights turn to each color based on a specified pattern in the Python code. This kind of traffic light simulation will have real world impact because drivers will know what to expect when nearing a traffic light(how much time between each light color change), reducing congestion and traffic as a whole."
   ]
  },
  {
   "cell_type": "code",
   "execution_count": 4,
   "id": "8a51e30b",
   "metadata": {},
   "outputs": [
    {
     "name": "stdout",
     "output_type": "stream",
     "text": [
      "Time 0: Green\n",
      "Time 1: Green\n",
      "Time 2: Green\n",
      "Time 3: Green\n",
      "Time 4: Green\n",
      "Time 5: Yellow\n",
      "Time 6: Yellow\n",
      "Time 7: Red\n",
      "Time 8: Red\n",
      "Time 9: Red\n",
      "Time 10: Red\n",
      "Time 11: Green\n",
      "Time 12: Green\n",
      "Time 13: Green\n",
      "Time 14: Green\n",
      "Time 15: Green\n",
      "Time 16: Yellow\n",
      "Time 17: Yellow\n",
      "Time 18: Red\n",
      "Time 19: Red\n"
     ]
    }
   ],
   "source": [
    "states = [\"Green\", \"Yellow\", \"Red\"]\n",
    "durations = {\"Green\": 5, \"Yellow\": 2, \"Red\": 4}\n",
    "timeline = []\n",
    "\n",
    "# Simulate 20 time steps\n",
    "time = 0\n",
    "state = \"Green\"\n",
    "counter = 0\n",
    "\n",
    "while time < 20:\n",
    "    timeline.append((time, state))\n",
    "    counter += 1\n",
    "    if counter == durations[state]:\n",
    "        counter = 0\n",
    "        current_index = states.index(state)\n",
    "        state = states[(current_index + 1) % len(states)]\n",
    "    time += 1\n",
    "\n",
    "for t, s in timeline:\n",
    "    print(f\"Time {t}: {s}\")\n"
   ]
  },
  {
   "cell_type": "markdown",
   "id": "d18b80cf",
   "metadata": {},
   "source": [
    "## Homework Hack 1"
   ]
  },
  {
   "cell_type": "code",
   "execution_count": 5,
   "id": "693e5490",
   "metadata": {},
   "outputs": [
    {
     "name": "stdout",
     "output_type": "stream",
     "text": [
      "🎲 Welcome to the Dice Game!\n",
      "Rolled: 1 + 2 = 3\n",
      "You lose!\n",
      "Stats ➤ Wins: 0, Losses: 1\n",
      "Rolled: 3 + 4 = 7\n",
      "You win!\n",
      "Stats ➤ Wins: 1, Losses: 1\n",
      "Rolled: 2 + 4 = 6\n",
      "Your point is 6. Keep rolling!\n",
      "Rolled: 6 + 6 = 12\n",
      "Rolled: 3 + 1 = 4\n",
      "Rolled: 5 + 1 = 6\n",
      "You rolled the point again! You win!\n",
      "Stats ➤ Wins: 2, Losses: 1\n",
      "Rolled: 3 + 6 = 9\n",
      "Your point is 9. Keep rolling!\n",
      "Rolled: 1 + 3 = 4\n",
      "Rolled: 1 + 2 = 3\n",
      "Rolled: 2 + 4 = 6\n",
      "Rolled: 6 + 1 = 7\n",
      "You rolled a 7. You lose!\n",
      "Stats ➤ Wins: 2, Losses: 2\n",
      "\n",
      "Thanks for playing!\n",
      "Final Stats ➤ Wins: 2, Losses: 2\n"
     ]
    }
   ],
   "source": [
    "import random\n",
    "\n",
    "def roll_dice():\n",
    "    \"\"\"🎲 Roll two dice and return their individual values and the total sum.\"\"\"\n",
    "    die1 = random.randint(1, 6)\n",
    "    die2 = random.randint(1, 6)\n",
    "    total = die1 + die2\n",
    "    print(f\"Rolled: {die1} + {die2} = {total}\")\n",
    "    return total\n",
    "\n",
    "def play_dice_game():\n",
    "    \"\"\"\n",
    "    ▶️ Play one round of the dice game.\n",
    "    Rules:\n",
    "    - Win on first roll if sum is 7 or 11\n",
    "    - Lose on first roll if sum is 2, 3, or 12\n",
    "    - Any other number becomes the 'point'\n",
    "    - Keep rolling until you roll the point again (win) or a 7 (lose)\n",
    "    Returns True if player wins, False if player loses.\n",
    "    \"\"\"\n",
    "    first_roll = roll_dice()\n",
    "\n",
    "    # Immediate win condition\n",
    "    if first_roll in (7, 11):\n",
    "        print(\"You win!\")\n",
    "        return True\n",
    "\n",
    "    # Immediate loss condition\n",
    "    if first_roll in (2, 3, 12):\n",
    "        print(\"You lose!\")\n",
    "        return False\n",
    "\n",
    "    # Set point and enter roll loop\n",
    "    point = first_roll\n",
    "    print(f\"Your point is {point}. Keep rolling!\")\n",
    "\n",
    "    while True:\n",
    "        roll = roll_dice()\n",
    "        if roll == point:\n",
    "            print(\"You rolled the point again! You win!\")\n",
    "            return True\n",
    "        elif roll == 7:\n",
    "            print(\"You rolled a 7. You lose!\")\n",
    "            return False\n",
    "\n",
    "def main():\n",
    "    \"\"\"📊 Main game loop with player prompt and win/loss tracking.\"\"\"\n",
    "    wins = 0\n",
    "    losses = 0\n",
    "\n",
    "    print(\"🎲 Welcome to the Dice Game!\")\n",
    "\n",
    "    while True:\n",
    "        choice = input(\"\\nDo you want to play a round? (yes/no): \").strip().lower()\n",
    "        if choice in (\"yes\", \"y\"):\n",
    "            result = play_dice_game()\n",
    "            if result:\n",
    "                wins += 1\n",
    "            else:\n",
    "                losses += 1\n",
    "            print(f\"Stats ➤ Wins: {wins}, Losses: {losses}\")\n",
    "        elif choice in (\"no\", \"n\"):\n",
    "            print(\"\\nThanks for playing!\")\n",
    "            print(f\"Final Stats ➤ Wins: {wins}, Losses: {losses}\")\n",
    "            break\n",
    "        else:\n",
    "            print(\"Invalid input. Please type 'yes' or 'no'.\")\n",
    "\n",
    "# Run the game\n",
    "if __name__ == \"__main__\":\n",
    "    main()\n"
   ]
  }
 ],
 "metadata": {
  "kernelspec": {
   "display_name": ".venv",
   "language": "python",
   "name": "python3"
  },
  "language_info": {
   "codemirror_mode": {
    "name": "ipython",
    "version": 3
   },
   "file_extension": ".py",
   "mimetype": "text/x-python",
   "name": "python",
   "nbconvert_exporter": "python",
   "pygments_lexer": "ipython3",
   "version": "3.10.12"
  }
 },
 "nbformat": 4,
 "nbformat_minor": 5
}
