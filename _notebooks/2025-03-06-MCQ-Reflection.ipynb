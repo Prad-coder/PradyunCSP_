{
 "cells": [
  {
   "cell_type": "code",
   "execution_count": null,
   "metadata": {
    "vscode": {
     "languageId": "plaintext"
    }
   },
   "outputs": [],
   "source": [
    "---\n",
    "layout: post\n",
    "title: MCQ Reflection Blog\n",
    "type: issues\n",
    "comments: true\n",
    "---"
   ]
  },
  {
   "cell_type": "markdown",
   "metadata": {},
   "source": [
    "## 2020 MCQ Reflection\n",
    "\n",
    "### MCQ Score\n",
    "<img src=\"{{site.baseurl}}/images/image.png\" alt=\"Description of Image\">\n",
    "\n",
    "### Times for Each Question\n",
    "\n",
    "<img src=\"{{site.baseurl}}/images/image1.png\" alt=\"Description of Image\">\n",
    "\n",
    "<img src=\"{{site.baseurl}}/images/image3.png\" alt=\"Description of Image\">\n",
    "\n",
    "<img src=\"{{site.baseurl}}/images/image2.png\" alt=\"Description of Image\">\n",
    "\n",
    "### Skills Assessment\n",
    "\n",
    "<img src=\"{{site.baseurl}}/images/image4.png\" alt=\"Description of Image\">\n",
    "\n",
    "### Proficient Skills\n",
    "- Skill 5.C: Describe the impact of a computing innovation.\n",
    "- Skill 3.C: Explain how abstraction manages complexity.\n",
    "- Skill 3.B: Use abstraction to manage complexity in a program.\n",
    "- Skill 2.A: Represent algorithmic processes without using a programming language.\n",
    "- Skill 1.C: Explain how collaboration affects the development of a solution.\n",
    "- Skill 1.B: Determine and design an appropriate method or approach to achieve the purpose.\n",
    "\n",
    "### Skills That Need to Be Worked On\n",
    "- Skill 5.E: Evaluate the use of computing based on legal and ethical factors.\n",
    "- Skill 5.D: Describe the impact of gathering data.\n",
    "- Skill 1.A: Investigate the situation, context, or task.\n",
    "\n",
    "### Reflection\n",
    "- Proficient in topics involving algorithms and procedures in programming\n",
    "- Proficient in topics involving computational devices, collaboration, and innovations\n",
    "- Need to work on studying vocab\n",
    "- Need to work on understanding computing systems, the Internet, copyright, etc."
   ]
  }
 ],
 "metadata": {
  "language_info": {
   "name": "python"
  }
 },
 "nbformat": 4,
 "nbformat_minor": 2
}
