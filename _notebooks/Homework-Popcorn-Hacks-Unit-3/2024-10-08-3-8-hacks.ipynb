{
 "cells": [
  {
   "cell_type": "raw",
   "metadata": {
    "vscode": {
     "languageId": "raw"
    }
   },
   "source": [
    "---\n",
    "layout: post\n",
    "title: 3.8 Hacks\n",
    "categories: [Tri 1 Team Teach Hacks]\n",
    "type: issues\n",
    "comments: true\n",
    "---"
   ]
  },
  {
   "cell_type": "markdown",
   "metadata": {},
   "source": [
    "## Popcorn Hack 1"
   ]
  },
  {
   "cell_type": "code",
   "execution_count": null,
   "metadata": {},
   "outputs": [],
   "source": [
    "age = int(input(\"What is your age?\"))\n",
    "has_ticket = True\n",
    "try:\n",
    "    student = input(\"Are you a student?\")\n",
    "    if student not in [\"Yes\",\"yes\",\"No\",\"no\"]:\n",
    "        raise ValueError(\"This is a yes or no question.\")\n",
    "except ValueError as e:\n",
    "    print(e)\n",
    "if age >= 18:\n",
    "    print(\"You are old enough to watch the movie.\")\n",
    "    if has_ticket:\n",
    "        print(\"You can enter the theater.\")\n",
    "    else:\n",
    "        print(\"You need a ticket to enter.\")\n",
    "        if student == \"Yes\":\n",
    "            print(\"You get a 20% discount of the $10 ticket!\")\n",
    "        else:\n",
    "            print(\"You don't get a discount on your $10 ticket.\")\n",
    "else:\n",
    "    print(\"You are too young to watch this movie.\")\n",
    "if 0 <= age <= 12:\n",
    "    print(\"You get 50% off your $10 ticket!\")\n",
    "    if student == \"Yes\":\n",
    "        print(\"You get a 20% more discount on your ticket!\")\n",
    "    else:\n",
    "        print(\"You don't get another discount :(.\")\n",
    "elif 13 <= age <= 65:\n",
    "    print(\"You don't get a discount on your ticket.\")\n",
    "    if student == \"Yes\":\n",
    "        print(\"You get a 20% discount off the $10 ticket!\")\n",
    "    else:\n",
    "        print(\"You don't get a discount on your $10 ticket.\")\n",
    "else:\n",
    "    print(\"You get 30% of your $10 ticket!\")\n",
    "    if student == \"Yes\":\n",
    "        print(\"You get a 20% more discount on your ticket!\")\n",
    "    else:\n",
    "        print(\"You don't get another discount on your ticket :(.\")"
   ]
  },
  {
   "cell_type": "markdown",
   "metadata": {},
   "source": [
    "## Popcorn Hack 2"
   ]
  },
  {
   "cell_type": "code",
   "execution_count": null,
   "metadata": {},
   "outputs": [],
   "source": [
    "try:\n",
    "    num = int(input(\"Enter a number: \"))  \n",
    "    result = 10 / num  \n",
    "    print(\"Result:\", result)\n",
    "except ValueError:\n",
    "    print(\"That's not a valid number!\")\n",
    "except ZeroDivisionError:\n",
    "    print(\"You can't divide by zero!\")\n",
    "else:\n",
    "    print(\"Operation was successful!\")\n",
    "if result % 2 == 0:\n",
    "    print(\"The result is even!\")\n",
    "elif result % 2 == 1:\n",
    "    print(\"The result is odd!\")\n",
    "else:\n",
    "    print(\"The result is neither odd nor even!\")"
   ]
  },
  {
   "cell_type": "markdown",
   "metadata": {},
   "source": [
    "## Homework Hack"
   ]
  },
  {
   "cell_type": "code",
   "execution_count": null,
   "metadata": {},
   "outputs": [],
   "source": [
    "def get_positive_integer(prompt):\n",
    "    while True:\n",
    "        user_input = input(prompt)\n",
    "        try:\n",
    "            value = int(user_input)\n",
    "            if value <= 0:\n",
    "                print(\"The number must be positive. Please try again.\")\n",
    "            else:\n",
    "                print(\"Success!\")\n",
    "                return value\n",
    "        except ValueError:\n",
    "            print(\"Invalid input. Please enter a valid positive integer.\")\n",
    "num = get_positive_integer(\"What is your favorite number?\")\n",
    "print(\"Your favorite number is: \", num)"
   ]
  }
 ],
 "metadata": {
  "kernelspec": {
   "display_name": "Python 3",
   "language": "python",
   "name": "python3"
  },
  "language_info": {
   "codemirror_mode": {
    "name": "ipython",
    "version": 3
   },
   "file_extension": ".py",
   "mimetype": "text/x-python",
   "name": "python",
   "nbconvert_exporter": "python",
   "pygments_lexer": "ipython3",
   "version": "3.10.12"
  }
 },
 "nbformat": 4,
 "nbformat_minor": 2
}
