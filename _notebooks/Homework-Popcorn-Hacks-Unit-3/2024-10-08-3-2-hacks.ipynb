{
 "cells": [
  {
   "cell_type": "raw",
   "metadata": {
    "vscode": {
     "languageId": "raw"
    }
   },
   "source": [
    "---\n",
    "layout: post\n",
    "title: 3.2 Hacks\n",
    "categories: [Tri 1 Team Teach Hacks]\n",
    "type: issues\n",
    "comments: true\n",
    "---"
   ]
  },
  {
   "cell_type": "markdown",
   "metadata": {},
   "source": [
    "## Popcorn Hacks"
   ]
  },
  {
   "cell_type": "code",
   "execution_count": 2,
   "metadata": {},
   "outputs": [
    {
     "name": "stdout",
     "output_type": "stream",
     "text": [
      "['Among Us', 'Minecraft', 'Red Dead Redemption 2', 'Fortnite', 'Brawl Stars']\n"
     ]
    }
   ],
   "source": [
    "gaming_list = ['Among Us','Minecraft','Red Dead Redemption 2','Fortnite','Brawl Stars' ]\n",
    "print(gaming_list)"
   ]
  },
  {
   "cell_type": "code",
   "execution_count": 10,
   "metadata": {},
   "outputs": [
    {
     "name": "stdout",
     "output_type": "stream",
     "text": [
      "Things we did in Sprint 1: ['Github Pages Playground', 'Java Script Project Playground', 'Frontend Development', 'Tools Setup', 'SASS Basics', 'Running make']\n",
      "Things we did in Sprint 2(Student Led Lessons): ['Big Idea 3(3.1, 3.2, 3.3, 3.4, 3.5, 3.6, 3.7, 3.8, 3.10)']\n"
     ]
    }
   ],
   "source": [
    "CSPsprints = {\n",
    "    'Sprint 1': ['Github Pages Playground','Java Script Project Playground','Frontend Development','Tools Setup','SASS Basics','Running make'],\n",
    "    'Sprint 2': ['Big Idea 3(3.1, 3.2, 3.3, 3.4, 3.5, 3.6, 3.7, 3.8, 3.10)']\n",
    "}\n",
    "print('Things we did in Sprint 1:', CSPsprints['Sprint 1'])\n",
    "print('Things we did in Sprint 2(Student Led Lessons):', CSPsprints['Sprint 2'])"
   ]
  },
  {
   "cell_type": "markdown",
   "metadata": {},
   "source": [
    "## Homework Hack"
   ]
  },
  {
   "cell_type": "code",
   "execution_count": 15,
   "metadata": {},
   "outputs": [
    {
     "name": "stdout",
     "output_type": "stream",
     "text": [
      "I'm learning  [{'Bridge to BC Units': ['Unit 1', 'Unit 2', 'Unit 3', 'Unit 4', 'Unit 5'], 'Unit 1': ['Functions', 'Limits', 'Continuity'], 'Unit 2': 'The Derivative', 'Unit 3': 'Applying the Derivative', 'Unit 4': 'Integration', 'Unit 5': 'Applying the Definite Integral'}, {'AP World Units': ['1200-1450', '1450-1750', '1750-1900', '1900-present'], '1200-1450': ['Unit 1:', 'Unit 2:'], '1450-1750': ['Unit 3', 'Unit 4'], '1750-1900': ['Unit 5', 'Unit 6'], '1900-present': ['Unit 7', 'Unit 8', 'Unit 9']}]  in AP World and Bridge to BC\n",
      "I'm learning  {'Unit 1': 'Physics and Measurements', 'Unit 2': 'Motion in One Dimension', 'Unit 3': 'Vectors and Motion in 2D', 'Unit 4': \"Forces with Newton's 3 Laws\"}  in AP Physics\n",
      "The units in English Seminar are  ('Community: Marrow Thieves', 'Power and Language: Animal Farm', 'Performance Task 1')\n",
      "False\n",
      "True\n",
      "You are learning in English Seminar!\n",
      "Good Job!\n"
     ]
    }
   ],
   "source": [
    "BC_and_World_Units = [\n",
    "    {\n",
    "        'Bridge to BC Units': ['Unit 1','Unit 2','Unit 3','Unit 4','Unit 5'],\n",
    "        'Unit 1': ['Functions','Limits','Continuity'],\n",
    "        'Unit 2': 'The Derivative',\n",
    "        'Unit 3': 'Applying the Derivative',\n",
    "        'Unit 4': 'Integration',\n",
    "        'Unit 5': 'Applying the Definite Integral',\n",
    "    },\n",
    "    {\n",
    "        'AP World Units': ['1200-1450','1450-1750','1750-1900','1900-present'],\n",
    "        '1200-1450': ['Unit 1:','Unit 2:'],\n",
    "        '1450-1750': ['Unit 3','Unit 4'],\n",
    "        '1750-1900': ['Unit 5','Unit 6'],\n",
    "        '1900-present': ['Unit 7','Unit 8','Unit 9'],\n",
    "    }\n",
    "]\n",
    "English_Seminar_Units = ('Community: Marrow Thieves','Power and Language: Animal Farm','Performance Task 1')\n",
    "Physics_Units = {\n",
    "    'Unit 1': 'Physics and Measurements',\n",
    "    'Unit 2': 'Motion in One Dimension',\n",
    "    'Unit 3': 'Vectors and Motion in 2D',\n",
    "    'Unit 4': \"Forces with Newton's 3 Laws\",\n",
    "}\n",
    "print(\"I'm learning \", BC_and_World_Units, \" in AP World and Bridge to BC\")\n",
    "print(\"I'm learning \", Physics_Units, \" in AP Physics\")\n",
    "print(\"The units in English Seminar are \", English_Seminar_Units)\n",
    "learning = True\n",
    "bored = False\n",
    "print(learning and bored)\n",
    "print(learning or bored)\n",
    "user_input = input('What are you learning in English Seminar?')\n",
    "if user_input == 'Community, Power, Language':\n",
    "    print('You are learning in English Seminar!')\n",
    "else:\n",
    "    print('Pay attention in class!')\n",
    "num1 = 60\n",
    "num2 = 59.8\n",
    "addition = input('What is 60+59.8?')\n",
    "if num1 + num2 == float(addition):\n",
    "    print('Good Job!')\n",
    "else:\n",
    "    print('Try Again!')"
   ]
  }
 ],
 "metadata": {
  "kernelspec": {
   "display_name": "Python 3",
   "language": "python",
   "name": "python3"
  },
  "language_info": {
   "codemirror_mode": {
    "name": "ipython",
    "version": 3
   },
   "file_extension": ".py",
   "mimetype": "text/x-python",
   "name": "python",
   "nbconvert_exporter": "python",
   "pygments_lexer": "ipython3",
   "version": "3.10.12"
  }
 },
 "nbformat": 4,
 "nbformat_minor": 2
}
