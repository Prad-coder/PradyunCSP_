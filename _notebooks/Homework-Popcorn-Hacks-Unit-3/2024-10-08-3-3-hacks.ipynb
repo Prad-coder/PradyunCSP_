{
 "cells": [
  {
   "cell_type": "raw",
   "metadata": {
    "vscode": {
     "languageId": "raw"
    }
   },
   "source": [
    "---\n",
    "layout: post\n",
    "title: 3.3 Hacks\n",
    "categories: [Tri 1 Team Teach Hacks]\n",
    "type: issues\n",
    "comments: true\n",
    "---"
   ]
  },
  {
   "cell_type": "markdown",
   "metadata": {},
   "source": [
    "## Popcorn Hack 1"
   ]
  },
  {
   "cell_type": "code",
   "execution_count": null,
   "metadata": {},
   "outputs": [],
   "source": [
    "x = int(input(\"Pick an integer for x!\"))\n",
    "print(2*x+5)"
   ]
  },
  {
   "cell_type": "markdown",
   "metadata": {},
   "source": [
    "## Popcorn Hack 2\n",
    "## Code will print: 86"
   ]
  },
  {
   "cell_type": "code",
   "execution_count": 22,
   "metadata": {},
   "outputs": [
    {
     "name": "stdout",
     "output_type": "stream",
     "text": [
      "86\n"
     ]
    }
   ],
   "source": [
    "number1 = 8\n",
    "number2 = 3\n",
    "number3 = number1 % number2\n",
    "number4 = number3 * number1 + 70\n",
    "print(number4)"
   ]
  },
  {
   "cell_type": "markdown",
   "metadata": {},
   "source": [
    "## Popcorn Hack 3"
   ]
  },
  {
   "cell_type": "code",
   "execution_count": 21,
   "metadata": {},
   "outputs": [
    {
     "name": "stdout",
     "output_type": "stream",
     "text": [
      "14 isn't divisible by 3!\n",
      "20 isn't divisible by 3!\n",
      "100 isn't divisible by 3!\n",
      "99 is divisible by 3!\n",
      "9 is divisible by 3!\n",
      "15 is divisible by 3!\n"
     ]
    }
   ],
   "source": [
    "numbers = [14, 20, 100, 99, 9, 15]\n",
    "for num in numbers:\n",
    "    if num % 3 == 0:\n",
    "        print(num, \"is divisible by 3!\")\n",
    "    else:\n",
    "        print(num, \"isn't divisible by 3!\")"
   ]
  },
  {
   "cell_type": "markdown",
   "metadata": {},
   "source": [
    "## Homework Hack"
   ]
  },
  {
   "cell_type": "code",
   "execution_count": null,
   "metadata": {},
   "outputs": [],
   "source": [
    "import math\n",
    "def fibonacci_sequence(n):\n",
    "    if n <= 0:\n",
    "        return []\n",
    "    elif n == 1:\n",
    "        return [0]\n",
    "    elif n == 2:\n",
    "        return [0, 1]\n",
    "    else:\n",
    "        fib_sequence = fibonacci_sequence(n - 1)\n",
    "        fib_sequence.append(fib_sequence[-1] + fib_sequence[-2])\n",
    "        return fib_sequence\n",
    "n = int(input(\"Enter an integer: \"))\n",
    "print(\"The first\",n,\"terms of the fibonacci sequence is:\", fibonacci_sequence(n))\n",
    "r = int(input(\"Enter a radius for the circle: \"))\n",
    "s = int(input(\"Enter a length for the side of the square: \"))\n",
    "l = int(input(\"Enter a length for the rectangle: \"))\n",
    "w = int(input(\"Enter a width for the rectangle: \"))\n",
    "b = int(input(\"Enter a base length for the rectangular prism: \"))\n",
    "l2 = int(input(\"Enter a length for the rectangular prism: \"))\n",
    "h = int(input(\"Enter a height for the rectangular prism: \"))\n",
    "r2 = int(input(\"Enter a radius for the sphere: \"))\n",
    "b2 = int(input(\"Enter a base length for the pyramid: \"))\n",
    "w2 = int(input(\"Enter a width for the pyramid: \"))\n",
    "h2 = int(input(\"Enter a height for the pyramid: \"))\n",
    "area_of_circle = (r**2)*math.pi\n",
    "print(\"The area of the circle is:\", area_of_circle)\n",
    "area_of_square = s**2\n",
    "print(\"The area of the square is:\", area_of_square)\n",
    "area_of_rectangle = l*w\n",
    "print(\"The area of the rectangle is:\", area_of_rectangle)\n",
    "volume_of_rectangular_prism = b*l2*h\n",
    "print(\"The volume of the rectangular prism is: \", volume_of_rectangular_prism)\n",
    "volume_of_sphere = (4/3)*math.pi*(r**3)\n",
    "print(\"The volume of the sphere is: \", volume_of_sphere)\n",
    "volume_of_pyramid = (1/3)*b2*w2*h2\n",
    "print(\"The volume of the pyramid is: \", volume_of_pyramid)"
   ]
  }
 ],
 "metadata": {
  "kernelspec": {
   "display_name": "Python 3",
   "language": "python",
   "name": "python3"
  },
  "language_info": {
   "codemirror_mode": {
    "name": "ipython",
    "version": 3
   },
   "file_extension": ".py",
   "mimetype": "text/x-python",
   "name": "python",
   "nbconvert_exporter": "python",
   "pygments_lexer": "ipython3",
   "version": "3.10.12"
  }
 },
 "nbformat": 4,
 "nbformat_minor": 2
}
