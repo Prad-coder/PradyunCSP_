{
 "cells": [
  {
   "cell_type": "raw",
   "metadata": {
    "vscode": {
     "languageId": "raw"
    }
   },
   "source": [
    "---\n",
    "layout: post\n",
    "title: 3.7 Hacks\n",
    "categories: [Tri 1 Team Teach Hacks]\n",
    "type: issues\n",
    "comments: true\n",
    "---"
   ]
  },
  {
   "cell_type": "markdown",
   "metadata": {},
   "source": [
    "## Homework Hack 1"
   ]
  },
  {
   "cell_type": "markdown",
   "metadata": {
    "vscode": {
     "languageId": "raw"
    }
   },
   "source": [
    "<pre>\n",
    "IF grade >= 60\n",
    "{\n",
    "DISPLAY \"You Pass!\"\n",
    "    IF grade >= 90\n",
    "    {\n",
    "        DISPLAY \"A\"\n",
    "    }\n",
    "    ELSE IF grade >= 80\n",
    "    {\n",
    "        DISPLAY \"B\"\n",
    "    }\n",
    "    ELSE IF grade >= 70\n",
    "    {\n",
    "        DISPLAY \"C\"\n",
    "    }\n",
    "    ELSE IF grade >= 60\n",
    "    {\n",
    "        DISPLAY \"D\"\n",
    "    }\n",
    "}\n",
    "IF grade < 60\n",
    "{\n",
    "DISPLAY \"You didn't pass, F!\"\n",
    "}\n",
    "</pre>"
   ]
  },
  {
   "cell_type": "markdown",
   "metadata": {},
   "source": [
    "## Homework Hack 2"
   ]
  },
  {
   "cell_type": "code",
   "execution_count": null,
   "metadata": {},
   "outputs": [],
   "source": [
    "valid_inputs = [\"Standard\",\"Express\"]\n",
    "try:\n",
    "    weight = int(input(\"What is the weight of your package?\"))\n",
    "except ValueError:\n",
    "    print(\"That's not a valid weight!\")\n",
    "try:\n",
    "    speed = input(\"Choose a delivery speed: Standard, Express\")\n",
    "    if speed not in valid_inputs:\n",
    "        raise ValueError(\"Invalid input: You can only enter (Standard, Express)\")\n",
    "except ValueError as e:\n",
    "    print(e)\n",
    "if weight >= 20:\n",
    "    if speed == \"Standard\":\n",
    "        print(\"Your cost is $20!\")\n",
    "    elif speed == \"Express\":\n",
    "        print(\"Your cost is $25!\")\n",
    "else:\n",
    "    if speed == \"Standard\":\n",
    "        print(\"Your cost is $15!\")\n",
    "    elif speed == \"Express\":\n",
    "        print(\"Your cost is $20!\")"
   ]
  },
  {
   "cell_type": "markdown",
   "metadata": {},
   "source": [
    "## Homework Hack 3"
   ]
  },
  {
   "cell_type": "code",
   "execution_count": null,
   "metadata": {},
   "outputs": [],
   "source": [
    "age = int(input(\"What is your age?\"))\n",
    "parent = input(\"Are you with a parent?\")\n",
    "if age < 18:\n",
    "    if parent == \"yes\":\n",
    "        print(\"Your child's ticket is free!\")\n",
    "    else:\n",
    "        print(\"Your ticket costs $5!\")\n",
    "else:\n",
    "    print(\"Your ticket costs $10!\")"
   ]
  },
  {
   "cell_type": "markdown",
   "metadata": {},
   "source": [
    "## Challenge Hack"
   ]
  },
  {
   "cell_type": "code",
   "execution_count": null,
   "metadata": {},
   "outputs": [],
   "source": [
    "def get_positive_integer(prompt):\n",
    "    while True:\n",
    "        user_input = input(prompt)\n",
    "        try:\n",
    "            value = int(user_input)\n",
    "            if value <= 0:\n",
    "                print(\"The number must be positive. Please try again.\")\n",
    "            else:\n",
    "                return value\n",
    "        except ValueError:\n",
    "            print(\"Invalid input. Please enter a valid positive integer.\")\n",
    "side1 = get_positive_integer(\"What is the length of side one?\")\n",
    "side2 = get_positive_integer(\"What is the length of side two?\")\n",
    "side3 = get_positive_integer(\"What is the length of side three?\")\n",
    "if side1 + side2 > side3 and side2 + side3 > side1 and side1 + side3 > side2:\n",
    "    if side1 == side2 == side3:\n",
    "        print(\"You have an equilateral triangle!\")\n",
    "    elif side1 == side2 or side2 == side3 or side3 == side1:\n",
    "        print(\"You have an isosceles triangle!\")\n",
    "    else:\n",
    "        print(\"You have a scalene triangle!\")\n",
    "else:\n",
    "    print(\"Make sure your sides make a triangle!\")"
   ]
  }
 ],
 "metadata": {
  "kernelspec": {
   "display_name": "Python 3",
   "language": "python",
   "name": "python3"
  },
  "language_info": {
   "codemirror_mode": {
    "name": "ipython",
    "version": 3
   },
   "file_extension": ".py",
   "mimetype": "text/x-python",
   "name": "python",
   "nbconvert_exporter": "python",
   "pygments_lexer": "ipython3",
   "version": "3.10.12"
  }
 },
 "nbformat": 4,
 "nbformat_minor": 2
}
