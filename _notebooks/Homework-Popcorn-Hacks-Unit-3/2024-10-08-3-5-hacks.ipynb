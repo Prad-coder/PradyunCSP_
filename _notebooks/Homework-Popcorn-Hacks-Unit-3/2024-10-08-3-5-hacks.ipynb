{
 "cells": [
  {
   "cell_type": "raw",
   "metadata": {
    "vscode": {
     "languageId": "raw"
    }
   },
   "source": [
    "---\n",
    "layout: post\n",
    "title: 3.5 Hacks\n",
    "categories: [Tri 1 Team Teach Hacks]\n",
    "type: issues\n",
    "comments: true\n",
    "---"
   ]
  },
  {
   "cell_type": "markdown",
   "metadata": {},
   "source": [
    "## Popcorn Hack 1"
   ]
  },
  {
   "cell_type": "code",
   "execution_count": 4,
   "metadata": {},
   "outputs": [
    {
     "name": "stdout",
     "output_type": "stream",
     "text": [
      "The variable is true!\n",
      "The 2nd variable is true!\n",
      "Either variable is true or false.\n"
     ]
    }
   ],
   "source": [
    "var = True\n",
    "var1 = False\n",
    "if var:\n",
    "    print(\"The variable is true!\")\n",
    "else:\n",
    "    print(\"The variable is false!\")\n",
    "if var1:\n",
    "    print(\"The 2nd variable is false!\")\n",
    "else:\n",
    "    print(\"The 2nd variable is true!\")\n",
    "if var and var1:\n",
    "    print(\"The variable is true but the 2nd variable is false.\")\n",
    "elif var or var1:\n",
    "    print(\"Either variable is true or false.\")"
   ]
  },
  {
   "cell_type": "markdown",
   "metadata": {},
   "source": [
    "## Popcorn Hack 2"
   ]
  },
  {
   "cell_type": "code",
   "execution_count": null,
   "metadata": {},
   "outputs": [],
   "source": [
    "x = int(input(\"Enter an integer: \"))\n",
    "if x > 10:\n",
    "    print(\"The number is greater than 10!\")\n",
    "elif x < 10:\n",
    "    print(\"The number is less than 10!\")\n",
    "else:\n",
    "    print(\"The number is equal to 10!\")"
   ]
  },
  {
   "cell_type": "markdown",
   "metadata": {},
   "source": [
    "## Popcorn Hack 3"
   ]
  },
  {
   "cell_type": "code",
   "execution_count": null,
   "metadata": {},
   "outputs": [],
   "source": [
    "x = int(input(\"Enter an integer: \"))\n",
    "if x>=100 and x<=999:\n",
    "    print(\"Your integer is a 3-digit number!\")\n",
    "else:\n",
    "    print(\"Your number isn't a 3-digit integer!\")"
   ]
  },
  {
   "cell_type": "markdown",
   "metadata": {},
   "source": [
    "## Homework Hack"
   ]
  },
  {
   "cell_type": "code",
   "execution_count": 6,
   "metadata": {},
   "outputs": [
    {
     "name": "stdout",
     "output_type": "stream",
     "text": [
      "A | B | NOT (A AND B) | NOT A OR NOT B\n",
      "--------------------------------------\n",
      " True |  True |         False |         False\n",
      " True | False |          True |          True\n",
      "False |  True |          True |          True\n",
      "False | False |          True |          True\n"
     ]
    }
   ],
   "source": [
    "import itertools\n",
    "variables = ['A', 'B']\n",
    "truth_values = [True, False]\n",
    "truth_table = list(itertools.product(truth_values, repeat=len(variables)))\n",
    "print(\" | \".join(variables) + \" | NOT (A AND B) | NOT A OR NOT B\")\n",
    "print(\"-\" * (len(variables) * 4 + 30))\n",
    "\n",
    "for values in truth_table:\n",
    "    A, B = values\n",
    "    output1 = not (A and B) \n",
    "    output2 = (not A) or (not B) \n",
    "    print(f\"{A!s:>5} | {B!s:>5} | {output1!s:>13} | {output2!s:>13}\")"
   ]
  }
 ],
 "metadata": {
  "kernelspec": {
   "display_name": "Python 3",
   "language": "python",
   "name": "python3"
  },
  "language_info": {
   "codemirror_mode": {
    "name": "ipython",
    "version": 3
   },
   "file_extension": ".py",
   "mimetype": "text/x-python",
   "name": "python",
   "nbconvert_exporter": "python",
   "pygments_lexer": "ipython3",
   "version": "3.10.12"
  }
 },
 "nbformat": 4,
 "nbformat_minor": 2
}
