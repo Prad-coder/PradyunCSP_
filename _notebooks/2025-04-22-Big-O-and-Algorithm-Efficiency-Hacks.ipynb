{
 "cells": [
  {
   "cell_type": "raw",
   "id": "17692111",
   "metadata": {
    "vscode": {
     "languageId": "raw"
    }
   },
   "source": [
    "---\n",
    "layout: post\n",
    "title: Big O and Algorithm Efficiency Hacks\n",
    "categories: [Tri 3 Team Teach Hacks]\n",
    "type: issues\n",
    "comments: true\n",
    "---"
   ]
  },
  {
   "cell_type": "markdown",
   "id": "cdd6059a",
   "metadata": {},
   "source": [
    "## Popcorn Hack 1\n",
    "\n",
    "**Best Strategies:**  \n",
    "✅ Use the modulus operator (`%`) to check if the remainder when divided by 2 is 0.  \n",
    "✅ Check if the last digit is 0, 2, 4, 6, or 8 manually.\n",
    "\n",
    "**Why these are the most efficient:**  \n",
    "Both methods are **O(1)** operations, meaning they run in constant time regardless of the size of the input. The modulus operator directly determines evenness, while checking the last digit is a quick shortcut for base-10 integers."
   ]
  },
  {
   "cell_type": "markdown",
   "id": "260e85a3",
   "metadata": {},
   "source": [
    "## Challenge:\n",
    "Run the code above and experiment with different string lengths.  \n",
    "Which method would you choose for a performance-critical application and why?\n",
    "\n",
    "### Answer:\n",
    "✅ **Choose the `speed_optimized_method(s[::-1])` for a performance-critical application.**\n",
    "\n",
    "**Why?**  \n",
    "- The slicing method is implemented in C under the hood and operates in linear time **O(n)** with minimal overhead.  \n",
    "- It consistently outperforms the manual insert method in both **speed** and **memory efficiency**, especially as the string length increases.\n",
    "- The `memory_optimized_method` incurs high memory costs due to repeated insertions at the beginning of the list, making it significantly slower and more memory-intensive for large inputs."
   ]
  },
  {
   "cell_type": "markdown",
   "id": "dfe9c576",
   "metadata": {},
   "source": [
    "## Popcorn Hack 2\n",
    "\n",
    "### Search Algorithm Analysis\n",
    "\n",
    "```python\n",
    "import time\n",
    "import random\n",
    "\n",
    "# Generate a large sorted list\n",
    "data_size = 10000000\n",
    "sorted_data = sorted(random.sample(range(100000000), data_size))\n",
    "\n",
    "# Target to find (worst case for linear search)\n",
    "target = sorted_data[-1]  # Last element\n",
    "\n",
    "# O(n) - Linear Search\n",
    "def linear_search(arr, target):\n",
    "    for i, element in enumerate(arr):\n",
    "        if element == target:\n",
    "            return i\n",
    "    return -1\n",
    "\n",
    "# O(log n) - Binary Search\n",
    "def binary_search(arr, target):\n",
    "    left, right = 0, len(arr) - 1\n",
    "    \n",
    "    while left <= right:\n",
    "        mid = (left + right) // 2\n",
    "        if arr[mid] == target:\n",
    "            return mid\n",
    "        elif arr[mid] < target:\n",
    "            left = mid + 1\n",
    "        else:\n",
    "            right = mid - 1\n",
    "    \n",
    "    return -1\n",
    "\n",
    "# Compare performance\n",
    "print(\"Testing with data size:\", data_size)\n",
    "\n",
    "start = time.time()\n",
    "linear_result = linear_search(sorted_data, target)\n",
    "linear_time = time.time() - start\n",
    "print(f\"Linear search: {linear_time:.6f} seconds\")\n",
    "\n",
    "start = time.time()\n",
    "binary_result = binary_search(sorted_data, target)\n",
    "binary_time = time.time() - start\n",
    "print(f\"Binary search: {binary_time:.6f} seconds\")\n",
    "\n",
    "print(f\"Binary search is approximately {linear_time/binary_time:.0f}x faster\")\n",
    "```\n",
    "\n",
    "### Time Complexity:\n",
    "- **Linear Search:** O(n) — Scans each item until it finds the target.\n",
    "- **Binary Search:** O(log n) — Cuts the search range in half every step.\n",
    "\n",
    "### How Many Times Faster is Binary Search?\n",
    "- In a typical run:\n",
    "  ```\n",
    "  Linear search: ~2.3 seconds\n",
    "  Binary search: ~0.00005 seconds\n",
    "  Binary search is approximately ~46000x faster\n",
    "  ```\n",
    "- The exact number may vary by system, but binary search is orders of magnitude faster.\n",
    "\n",
    "### What Happens if You Increase `data_size` to 20000000?\n",
    "- **Linear Search:** Time roughly doubles (O(n)).\n",
    "- **Binary Search:** Time increases minimally (O(log n)).\n",
    "- ➕ Binary search becomes even more dominant in larger datasets.\n",
    "\n",
    "### ✅ Conclusion:\n",
    "Use **binary search** for large sorted datasets — it is vastly more efficient than linear search."
   ]
  },
  {
   "cell_type": "markdown",
   "id": "b65e5711",
   "metadata": {},
   "source": [
    "## Homework Hack 1"
   ]
  },
  {
   "cell_type": "code",
   "execution_count": 1,
   "id": "350d8636",
   "metadata": {},
   "outputs": [
    {
     "name": "stdout",
     "output_type": "stream",
     "text": [
      "Bubble Sort Time: 0.014363 seconds\n",
      "Merge Sort Time:  0.002733 seconds\n",
      "Merge Sort is faster.\n"
     ]
    }
   ],
   "source": [
    "import time\n",
    "import random\n",
    "\n",
    "# Generate a list of 100 random numbers between 1 and 1000\n",
    "data = [random.randint(1, 1000) for _ in range(100)]\n",
    "data_for_bubble = data.copy()\n",
    "data_for_merge = data.copy()\n",
    "\n",
    "# Bubble Sort\n",
    "def bubble_sort(arr):\n",
    "    n = len(arr)\n",
    "    for i in range(n):\n",
    "        for j in range(0, n - i - 1):\n",
    "            if arr[j] > arr[j + 1]:\n",
    "                arr[j], arr[j + 1] = arr[j + 1], arr[j]\n",
    "\n",
    "# Merge Sort\n",
    "def merge_sort(arr):\n",
    "    if len(arr) <= 1:\n",
    "        return arr\n",
    "    mid = len(arr) // 2\n",
    "    left = merge_sort(arr[:mid])\n",
    "    right = merge_sort(arr[mid:])\n",
    "    return merge(left, right)\n",
    "\n",
    "def merge(left, right):\n",
    "    result = []\n",
    "    i = j = 0\n",
    "    while i < len(left) and j < len(right):\n",
    "        if left[i] < right[j]:\n",
    "            result.append(left[i])\n",
    "            i += 1\n",
    "        else:\n",
    "            result.append(right[j])\n",
    "            j += 1\n",
    "    result.extend(left[i:])\n",
    "    result.extend(right[j:])\n",
    "    return result\n",
    "\n",
    "# Time Bubble Sort\n",
    "start_bubble = time.time()\n",
    "bubble_sort(data_for_bubble)\n",
    "end_bubble = time.time()\n",
    "bubble_time = end_bubble - start_bubble\n",
    "\n",
    "# Time Merge Sort\n",
    "start_merge = time.time()\n",
    "sorted_merge = merge_sort(data_for_merge)\n",
    "end_merge = time.time()\n",
    "merge_time = end_merge - start_merge\n",
    "\n",
    "# Output Results\n",
    "print(f\"Bubble Sort Time: {bubble_time:.6f} seconds\")\n",
    "print(f\"Merge Sort Time:  {merge_time:.6f} seconds\")\n",
    "\n",
    "if bubble_time < merge_time:\n",
    "    print(\"Bubble Sort is faster.\")\n",
    "elif merge_time < bubble_time:\n",
    "    print(\"Merge Sort is faster.\")\n",
    "else:\n",
    "    print(\"Both sorting algorithms took the same time.\")\n"
   ]
  },
  {
   "cell_type": "markdown",
   "id": "fa27f237",
   "metadata": {},
   "source": [
    "Merge Sort consistently outperforms Bubble Sort because it has a time complexity of O(n log n), which scales much more efficiently for large datasets. In contrast, Bubble Sort has a time complexity of O(n²), making it much slower as the size of the list grows. Merge Sort divides the list into smaller sublists and sorts them recursively, while Bubble Sort repeatedly compares and swaps adjacent elements, which results in more unnecessary comparisons and swaps."
   ]
  },
  {
   "cell_type": "markdown",
   "id": "61ca06b9",
   "metadata": {},
   "source": [
    "## Homework Hack 2"
   ]
  },
  {
   "cell_type": "code",
   "execution_count": null,
   "id": "1395497d",
   "metadata": {},
   "outputs": [
    {
     "name": "stdout",
     "output_type": "stream",
     "text": [
      "Linear Search made 74501 comparisons.\n",
      "Binary Search made 15 comparisons.\n",
      "Binary Search is more efficient.\n"
     ]
    }
   ],
   "source": [
    "import random\n",
    "\n",
    "# Generate a sorted list of 100,000 numbers from 1 to 100,000\n",
    "sorted_list = list(range(1, 100001))\n",
    "\n",
    "# Pick a random number in the list\n",
    "target = random.choice(sorted_list)\n",
    "\n",
    "# Linear Search\n",
    "def linear_search(arr, target):\n",
    "    comparisons = 0\n",
    "    for element in arr:\n",
    "        comparisons += 1\n",
    "        if element == target:\n",
    "            return comparisons  # Return number of comparisons made\n",
    "    return comparisons\n",
    "\n",
    "# Binary Search\n",
    "def binary_search(arr, target):\n",
    "    comparisons = 0\n",
    "    left, right = 0, len(arr) - 1\n",
    "    while left <= right:\n",
    "        comparisons += 1\n",
    "        mid = (left + right) // 2\n",
    "        if arr[mid] == target:\n",
    "            return comparisons\n",
    "        elif arr[mid] < target:\n",
    "            left = mid + 1\n",
    "        else:\n",
    "            right = mid - 1\n",
    "    return comparisons\n",
    "\n",
    "# Perform both searches and count comparisons\n",
    "linear_comparisons = linear_search(sorted_list, target)\n",
    "binary_comparisons = binary_search(sorted_list, target)\n",
    "\n",
    "# Output results\n",
    "print(f\"Linear Search made {linear_comparisons} comparisons.\")\n",
    "print(f\"Binary Search made {binary_comparisons} comparisons.\")\n",
    "\n",
    "# Compare the efficiency\n",
    "if linear_comparisons < binary_comparisons:\n",
    "    print(\"Linear Search is more efficient.\")\n",
    "elif binary_comparisons < linear_comparisons:\n",
    "    print(\"Binary Search is more efficient.\")\n",
    "else:\n",
    "    print(\"Both algorithms made the same number of comparisons.\")"
   ]
  },
  {
   "cell_type": "markdown",
   "id": "22405ef5",
   "metadata": {},
   "source": [
    "### 1. **Which search algorithm is faster, and why?**\n",
    "\n",
    "**Binary Search** is faster than **Linear Search** for large sorted lists because it has a time complexity of **O(log n)**, which means it reduces the search space by half with each comparison. This logarithmic growth makes it much more efficient as the size of the list increases. On the other hand, **Linear Search** has a time complexity of **O(n)**, which requires checking each element one by one until the target is found, making it slower for larger datasets.\n",
    "\n",
    "### 2. **What happens if you run both searches on an unsorted list?**\n",
    "\n",
    "- **Linear Search:** Will still work correctly on an unsorted list. It simply checks each element in the list one by one, regardless of the order. Its time complexity remains **O(n)**, and it will return the correct result.\n",
    "  \n",
    "- **Binary Search:** Will not work correctly on an unsorted list. Since Binary Search assumes that the list is sorted, it relies on dividing the list in half based on the assumption that the elements are ordered. If the list is unsorted, the algorithm may give incorrect results, as it could miss the target or incorrectly divide the list. To use Binary Search, the list must be sorted first, which would add the time complexity of sorting (**O(n log n)**) before performing the search."
   ]
  }
 ],
 "metadata": {
  "kernelspec": {
   "display_name": ".venv",
   "language": "python",
   "name": "python3"
  },
  "language_info": {
   "codemirror_mode": {
    "name": "ipython",
    "version": 3
   },
   "file_extension": ".py",
   "mimetype": "text/x-python",
   "name": "python",
   "nbconvert_exporter": "python",
   "pygments_lexer": "ipython3",
   "version": "3.10.12"
  }
 },
 "nbformat": 4,
 "nbformat_minor": 5
}
