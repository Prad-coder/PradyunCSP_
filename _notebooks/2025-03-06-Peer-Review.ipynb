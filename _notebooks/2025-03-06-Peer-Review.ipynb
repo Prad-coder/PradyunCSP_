{
 "cells": [
  {
   "cell_type": "code",
   "execution_count": null,
   "metadata": {
    "vscode": {
     "languageId": "plaintext"
    }
   },
   "outputs": [],
   "source": [
    "---\n",
    "layout: post\n",
    "title: Peer Review Blog\n",
    "categories: [Tri 2 Documentation]\n",
    "type: issues\n",
    "comments: true\n",
    "---"
   ]
  },
  {
   "cell_type": "markdown",
   "metadata": {},
   "source": [
    "| Category                         | Points | Description | Peer Grade |\n",
    "|----------------------------------|--------|-------------|------------|\n",
    "| Five tasks over 12 weeks     | 5      | List five things completed, including issues addressed, burndown tracking, and presentation work. | 4.7 |\n",
    "| Full Stack Project Demo      | 2      | Demonstrate the project, highlight CPT requirements, and incorporate N@TM feedback. | 1.8 |\n",
    "| Project Feature Blog Write-up | 1      | Use CPT/FRQ language to write a structured blog post on project features. | 0.9 |\n",
    "| MCQ Completion               | 1      | Successfully complete and reflect on multiple-choice questions. | 1 |\n",
    "| Retrospective Reflection     | 1      | - Reflect on strengths and weaknesses  <br> - Create next steps plans for improvement  <br> - Engage with peer projects and document interests  <br> - Think about future steps in CompSci, classes, college, internships, or career  <br> - Help a new peer with final exam prep or conduct a live review with Ms. Pataki  <br> - Send a detailed summary of review points 24 hours in advance, including a self-grade assessment | 0.9 |\n",
    "| Total                        | 10     | Maximum possible score. | 9.3 |\n",
    "\n",
    "- Don't rush through the review, take the time to go through important parts\n",
    "- Don't focus on small aspects of the retrospective, just summarize each part\n",
    "- Take in a calm and confident voice\n",
    "- Don't skim through each blog of the retrospective"
   ]
  }
 ],
 "metadata": {
  "language_info": {
   "name": "python"
  }
 },
 "nbformat": 4,
 "nbformat_minor": 2
}
